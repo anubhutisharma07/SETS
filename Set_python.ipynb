{
 "cells": [
  {
   "cell_type": "code",
   "execution_count": 1,
   "id": "a2202949",
   "metadata": {},
   "outputs": [],
   "source": [
    "sample_list=[1,23.4,\"hey\",4,78]"
   ]
  },
  {
   "cell_type": "code",
   "execution_count": 2,
   "id": "6bfc5391",
   "metadata": {},
   "outputs": [
    {
     "data": {
      "text/plain": [
       "list"
      ]
     },
     "execution_count": 2,
     "metadata": {},
     "output_type": "execute_result"
    }
   ],
   "source": [
    "type(sample_list)"
   ]
  },
  {
   "cell_type": "code",
   "execution_count": 3,
   "id": "e4d629bd",
   "metadata": {},
   "outputs": [
    {
     "data": {
      "text/plain": [
       "'hey'"
      ]
     },
     "execution_count": 3,
     "metadata": {},
     "output_type": "execute_result"
    }
   ],
   "source": [
    "sample_list[2]"
   ]
  },
  {
   "cell_type": "code",
   "execution_count": 4,
   "id": "ca652bc1",
   "metadata": {},
   "outputs": [],
   "source": [
    "sample_list[1]=45"
   ]
  },
  {
   "cell_type": "code",
   "execution_count": 5,
   "id": "a7297db5",
   "metadata": {},
   "outputs": [
    {
     "data": {
      "text/plain": [
       "[1, 45, 'hey', 4, 78]"
      ]
     },
     "execution_count": 5,
     "metadata": {},
     "output_type": "execute_result"
    }
   ],
   "source": [
    "sample_list"
   ]
  },
  {
   "cell_type": "code",
   "execution_count": 6,
   "id": "2215231a",
   "metadata": {},
   "outputs": [],
   "source": [
    "####tuple"
   ]
  },
  {
   "cell_type": "code",
   "execution_count": 8,
   "id": "9a3ed2e0",
   "metadata": {},
   "outputs": [
    {
     "data": {
      "text/plain": [
       "(2, 3.4, 'heya', 7, 8)"
      ]
     },
     "execution_count": 8,
     "metadata": {},
     "output_type": "execute_result"
    }
   ],
   "source": [
    "sample_tuple=(2,3.4,\"heya\",7,8)\n",
    "sample_tuple"
   ]
  },
  {
   "cell_type": "code",
   "execution_count": 9,
   "id": "de0c6c19",
   "metadata": {},
   "outputs": [
    {
     "data": {
      "text/plain": [
       "tuple"
      ]
     },
     "execution_count": 9,
     "metadata": {},
     "output_type": "execute_result"
    }
   ],
   "source": [
    "type(sample_tuple)"
   ]
  },
  {
   "cell_type": "code",
   "execution_count": 10,
   "id": "01fb3c64",
   "metadata": {},
   "outputs": [
    {
     "ename": "TypeError",
     "evalue": "'tuple' object is not callable",
     "output_type": "error",
     "traceback": [
      "\u001b[1;31m---------------------------------------------------------------------------\u001b[0m",
      "\u001b[1;31mTypeError\u001b[0m                                 Traceback (most recent call last)",
      "Cell \u001b[1;32mIn[10], line 1\u001b[0m\n\u001b[1;32m----> 1\u001b[0m \u001b[43msample_tuple\u001b[49m\u001b[43m(\u001b[49m\u001b[38;5;241;43m2\u001b[39;49m\u001b[43m)\u001b[49m\n",
      "\u001b[1;31mTypeError\u001b[0m: 'tuple' object is not callable"
     ]
    }
   ],
   "source": [
    "sample_tuple(2)"
   ]
  },
  {
   "cell_type": "code",
   "execution_count": 11,
   "id": "fb9a8c58",
   "metadata": {},
   "outputs": [
    {
     "data": {
      "text/plain": [
       "'heya'"
      ]
     },
     "execution_count": 11,
     "metadata": {},
     "output_type": "execute_result"
    }
   ],
   "source": [
    "sample_tuple[2]"
   ]
  },
  {
   "cell_type": "code",
   "execution_count": 12,
   "id": "ba1db911",
   "metadata": {},
   "outputs": [
    {
     "data": {
      "text/plain": [
       "7"
      ]
     },
     "execution_count": 12,
     "metadata": {},
     "output_type": "execute_result"
    }
   ],
   "source": [
    "sample_tuple[-2]"
   ]
  },
  {
   "cell_type": "code",
   "execution_count": 13,
   "id": "77aa448d",
   "metadata": {},
   "outputs": [
    {
     "ename": "TypeError",
     "evalue": "'tuple' object does not support item assignment",
     "output_type": "error",
     "traceback": [
      "\u001b[1;31m---------------------------------------------------------------------------\u001b[0m",
      "\u001b[1;31mTypeError\u001b[0m                                 Traceback (most recent call last)",
      "Cell \u001b[1;32mIn[13], line 1\u001b[0m\n\u001b[1;32m----> 1\u001b[0m sample_tuple[\u001b[38;5;241m0\u001b[39m]\u001b[38;5;241m=\u001b[39m\u001b[38;5;241m23\u001b[39m\n",
      "\u001b[1;31mTypeError\u001b[0m: 'tuple' object does not support item assignment"
     ]
    }
   ],
   "source": [
    "sample_tuple[0]=23"
   ]
  },
  {
   "cell_type": "code",
   "execution_count": 15,
   "id": "284b4138",
   "metadata": {},
   "outputs": [
    {
     "data": {
      "text/plain": [
       "(2, 3.4, 'heya', 7, 8)"
      ]
     },
     "execution_count": 15,
     "metadata": {},
     "output_type": "execute_result"
    }
   ],
   "source": [
    "sample_tuple"
   ]
  },
  {
   "cell_type": "code",
   "execution_count": 16,
   "id": "d99bd060",
   "metadata": {},
   "outputs": [],
   "source": [
    "##set"
   ]
  },
  {
   "cell_type": "code",
   "execution_count": 17,
   "id": "bf43fc7e",
   "metadata": {},
   "outputs": [
    {
     "data": {
      "text/plain": [
       "{1, 23.4, 56, 'apple', 'hiii', 'queen'}"
      ]
     },
     "execution_count": 17,
     "metadata": {},
     "output_type": "execute_result"
    }
   ],
   "source": [
    "sample_set={1,23.4,\"hiii\",56,56,\"queen\",\"apple\"}\n",
    "sample_set"
   ]
  },
  {
   "cell_type": "code",
   "execution_count": 18,
   "id": "6b553aee",
   "metadata": {},
   "outputs": [
    {
     "data": {
      "text/plain": [
       "{1, 12, 23.4, 56, 'apple', 'hiii', 'queen'}"
      ]
     },
     "execution_count": 18,
     "metadata": {},
     "output_type": "execute_result"
    }
   ],
   "source": [
    "sample_set.add(12)\n",
    "sample_set"
   ]
  },
  {
   "cell_type": "code",
   "execution_count": 19,
   "id": "5bc705c7",
   "metadata": {},
   "outputs": [
    {
     "data": {
      "text/plain": [
       "{1, 12, 23.4, 56, 'apple', 'queen'}"
      ]
     },
     "execution_count": 19,
     "metadata": {},
     "output_type": "execute_result"
    }
   ],
   "source": [
    "sample_set.remove(\"hiii\")\n",
    "sample_set"
   ]
  },
  {
   "cell_type": "code",
   "execution_count": 20,
   "id": "bb6caa6d",
   "metadata": {},
   "outputs": [],
   "source": [
    "## dictionary "
   ]
  },
  {
   "cell_type": "code",
   "execution_count": 21,
   "id": "6b443e65",
   "metadata": {},
   "outputs": [
    {
     "data": {
      "text/plain": [
       "{1: 23, 2: 4, 3: 'anu', 4: 'aana'}"
      ]
     },
     "execution_count": 21,
     "metadata": {},
     "output_type": "execute_result"
    }
   ],
   "source": [
    "sample_dic={1:23,2:4,3:\"anu\",4:\"aana\"}\n",
    "sample_dic"
   ]
  },
  {
   "cell_type": "code",
   "execution_count": 22,
   "id": "36ebe751",
   "metadata": {},
   "outputs": [
    {
     "data": {
      "text/plain": [
       "4"
      ]
     },
     "execution_count": 22,
     "metadata": {},
     "output_type": "execute_result"
    }
   ],
   "source": [
    "sample_dic[2]"
   ]
  },
  {
   "cell_type": "code",
   "execution_count": 23,
   "id": "2d70c387",
   "metadata": {},
   "outputs": [
    {
     "ename": "KeyError",
     "evalue": "'anu'",
     "output_type": "error",
     "traceback": [
      "\u001b[1;31m---------------------------------------------------------------------------\u001b[0m",
      "\u001b[1;31mKeyError\u001b[0m                                  Traceback (most recent call last)",
      "Cell \u001b[1;32mIn[23], line 1\u001b[0m\n\u001b[1;32m----> 1\u001b[0m \u001b[43msample_dic\u001b[49m\u001b[43m[\u001b[49m\u001b[38;5;124;43m\"\u001b[39;49m\u001b[38;5;124;43manu\u001b[39;49m\u001b[38;5;124;43m\"\u001b[39;49m\u001b[43m]\u001b[49m\n",
      "\u001b[1;31mKeyError\u001b[0m: 'anu'"
     ]
    }
   ],
   "source": [
    "sample_dic[\"anu\"]"
   ]
  },
  {
   "cell_type": "code",
   "execution_count": 24,
   "id": "ddb45109",
   "metadata": {},
   "outputs": [
    {
     "data": {
      "text/plain": [
       "{1: 23, 2: 4, 3: 'anu', 4: 'aana', 5: 34.5}"
      ]
     },
     "execution_count": 24,
     "metadata": {},
     "output_type": "execute_result"
    }
   ],
   "source": [
    "sample_dic[5]=34.5\n",
    "sample_dic"
   ]
  },
  {
   "cell_type": "code",
   "execution_count": 25,
   "id": "9058fdac",
   "metadata": {},
   "outputs": [
    {
     "data": {
      "text/plain": [
       "{1: 23, 2: 4, 3: 'anu', 4: 'aana', 5: 34.5, 10: 'ANUBHUTI'}"
      ]
     },
     "execution_count": 25,
     "metadata": {},
     "output_type": "execute_result"
    }
   ],
   "source": [
    "sample_dic[10]=\"ANUBHUTI\"\n",
    "sample_dic"
   ]
  },
  {
   "cell_type": "code",
   "execution_count": null,
   "id": "6eaafff9",
   "metadata": {},
   "outputs": [],
   "source": []
  }
 ],
 "metadata": {
  "kernelspec": {
   "display_name": "Python 3 (ipykernel)",
   "language": "python",
   "name": "python3"
  },
  "language_info": {
   "codemirror_mode": {
    "name": "ipython",
    "version": 3
   },
   "file_extension": ".py",
   "mimetype": "text/x-python",
   "name": "python",
   "nbconvert_exporter": "python",
   "pygments_lexer": "ipython3",
   "version": "3.10.9"
  }
 },
 "nbformat": 4,
 "nbformat_minor": 5
}
